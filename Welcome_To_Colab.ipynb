{
  "cells": [
    {
      "cell_type": "markdown",
      "metadata": {
        "id": "view-in-github",
        "colab_type": "text"
      },
      "source": [
        "<a href=\"https://colab.research.google.com/github/KARTIKEYA47JAIN/Rape_In_India/blob/main/Welcome_To_Colab.ipynb\" target=\"_parent\"><img src=\"https://colab.research.google.com/assets/colab-badge.svg\" alt=\"Open In Colab\"/></a>"
      ]
    },
    {
      "cell_type": "markdown",
      "source": [
        "# Social Network Analysis - Introduction to Python"
      ],
      "metadata": {
        "id": "3rIGzNPsY2pl"
      }
    },
    {
      "cell_type": "markdown",
      "source": [
        "HOW to Mount Drive?\n",
        "\n",
        "We use **mount ()** function present inside **google.colab library** to mount Google Drive to Google Colaboratry"
      ],
      "metadata": {
        "id": "YWT-ESQIZL08"
      }
    },
    {
      "cell_type": "code",
      "source": [
        "import os\n",
        "from google.colab import drive"
      ],
      "metadata": {
        "id": "1ff6fkebZKNg"
      },
      "execution_count": 7,
      "outputs": []
    },
    {
      "cell_type": "code",
      "source": [
        "MOUNT_POINT = \"/content/gdrive\"\n",
        "DATA_DIR = os.path.join(MOUNT_POINT, \"MyDrive\")\n",
        "drive.mount(MOUNT_POINT)"
      ],
      "metadata": {
        "colab": {
          "base_uri": "https://localhost:8080/"
        },
        "id": "FtS23BT9ZvHU",
        "outputId": "127c3cd1-ccef-494e-9c84-ddd40e839c15"
      },
      "execution_count": 9,
      "outputs": [
        {
          "output_type": "stream",
          "name": "stdout",
          "text": [
            "Mounted at /content/gdrive\n"
          ]
        }
      ]
    },
    {
      "cell_type": "markdown",
      "source": [
        "####To use Shell Commands in the Python Notebook use **! or %cd**"
      ],
      "metadata": {
        "id": "A6OgGDenbJqH"
      }
    },
    {
      "cell_type": "code",
      "source": [
        "!ls"
      ],
      "metadata": {
        "colab": {
          "base_uri": "https://localhost:8080/"
        },
        "id": "86RImgxiay_U",
        "outputId": "3a7eda77-fff3-4732-871a-70bcc4caa315"
      },
      "execution_count": 11,
      "outputs": [
        {
          "output_type": "stream",
          "name": "stdout",
          "text": [
            "gdrive\tsample_data\n"
          ]
        }
      ]
    },
    {
      "cell_type": "markdown",
      "source": [
        "#### To Read or Write to the file use: **open(File_Name, 'r'/'w'); 'r'-> Read & 'w'-> Write.**"
      ],
      "metadata": {
        "id": "2V1ztQnsbh0e"
      }
    },
    {
      "cell_type": "markdown",
      "source": [
        "with open('File.txt', 'r') as file:<br>\n",
        "&nbsp;&nbsp;data = file.read() # For Reading<br>\n",
        "&nbsp;&nbsp;file.write(\"XYZ\") # For Writing<br>\n",
        "print(data)"
      ],
      "metadata": {
        "id": "_DeY7hxqcino"
      }
    },
    {
      "cell_type": "markdown",
      "source": [
        "#Python"
      ],
      "metadata": {
        "id": "6gZ5d6DkdIsl"
      }
    },
    {
      "cell_type": "code",
      "source": [
        "# Print Function\n",
        "\n",
        "print('I am Back')"
      ],
      "metadata": {
        "colab": {
          "base_uri": "https://localhost:8080/"
        },
        "id": "ofrgOzelc_RE",
        "outputId": "62f4917c-0a2d-41c4-8d4c-083e660e97b7"
      },
      "execution_count": 14,
      "outputs": [
        {
          "output_type": "stream",
          "name": "stdout",
          "text": [
            "I am Back\n"
          ]
        }
      ]
    },
    {
      "cell_type": "markdown",
      "source": [
        "#Variables"
      ],
      "metadata": {
        "id": "xCqUFACVdSau"
      }
    },
    {
      "cell_type": "code",
      "source": [
        "#Case Sensitive\n",
        "x = 10\n",
        "X = 20\n",
        "\n",
        "print(x)\n",
        "print(X)"
      ],
      "metadata": {
        "colab": {
          "base_uri": "https://localhost:8080/"
        },
        "id": "zCsXhP7XdPbf",
        "outputId": "c640dd65-5dbb-4627-c701-7e0f82de9921"
      },
      "execution_count": 15,
      "outputs": [
        {
          "output_type": "stream",
          "name": "stdout",
          "text": [
            "10\n",
            "20\n"
          ]
        }
      ]
    },
    {
      "cell_type": "code",
      "source": [
        "# Comma Separation\n",
        "a, b, c = 1, 2, 3\n",
        "\n",
        "print(a,b,c)"
      ],
      "metadata": {
        "colab": {
          "base_uri": "https://localhost:8080/"
        },
        "id": "6mRvO5ZPdaEy",
        "outputId": "58c12471-e080-4826-b5f8-891d62d983b8"
      },
      "execution_count": 16,
      "outputs": [
        {
          "output_type": "stream",
          "name": "stdout",
          "text": [
            "1 2 3\n"
          ]
        }
      ]
    },
    {
      "cell_type": "code",
      "source": [
        "# Variable is not bounded by any data type\n",
        "x = 47\n",
        "print(x)\n",
        "\n",
        "x = 'KJ'\n",
        "print(x)"
      ],
      "metadata": {
        "colab": {
          "base_uri": "https://localhost:8080/"
        },
        "id": "rkcWqpnkdiMH",
        "outputId": "901fb520-e083-4c9b-a277-d41c27b3d839"
      },
      "execution_count": 17,
      "outputs": [
        {
          "output_type": "stream",
          "name": "stdout",
          "text": [
            "47\n",
            "KJ\n"
          ]
        }
      ]
    },
    {
      "cell_type": "code",
      "source": [
        "#Global Variable\n",
        "x = 1\n",
        "\n",
        "def func():\n",
        "  x = 2 # Local Variable\n",
        "  print(\"Inside: \", x)\n",
        "\n",
        "func()\n",
        "print(\"Outside: \", x) # Will print value of x outside the Function i.e. the Global Value"
      ],
      "metadata": {
        "colab": {
          "base_uri": "https://localhost:8080/"
        },
        "id": "YsRNdAMid0Gv",
        "outputId": "75b8777e-4849-49e7-94e6-5f3262b4da5e"
      },
      "execution_count": 21,
      "outputs": [
        {
          "output_type": "stream",
          "name": "stdout",
          "text": [
            "Inside:  2\n",
            "Outside:  1\n"
          ]
        }
      ]
    },
    {
      "cell_type": "code",
      "source": [
        "#To Modify Global Variable inside the function\n",
        "x = 1\n",
        "\n",
        "def func():\n",
        "  global x # This tells that we are going to use Global x\n",
        "  x = 2 # Local Variable\n",
        "  print(\"Inside: \", x)\n",
        "\n",
        "func()\n",
        "print(\"Outside: \", x) # Will print value of x outside the Function i.e. the Global Value"
      ],
      "metadata": {
        "colab": {
          "base_uri": "https://localhost:8080/"
        },
        "id": "9V9ls2IDeAMb",
        "outputId": "5de524e9-e0b7-4e4c-da3b-4ccd0a3acd27"
      },
      "execution_count": 22,
      "outputs": [
        {
          "output_type": "stream",
          "name": "stdout",
          "text": [
            "Inside:  2\n",
            "Outside:  2\n"
          ]
        }
      ]
    },
    {
      "cell_type": "code",
      "source": [
        "# Data Types\n",
        "x = True\n",
        "if(x):\n",
        "  print(\"It is True\")"
      ],
      "metadata": {
        "colab": {
          "base_uri": "https://localhost:8080/"
        },
        "id": "aY-LCiO_f2tb",
        "outputId": "65030660-5942-46fe-a687-cda29e9c4f85"
      },
      "execution_count": 23,
      "outputs": [
        {
          "output_type": "stream",
          "name": "stdout",
          "text": [
            "It is True\n"
          ]
        }
      ]
    },
    {
      "cell_type": "code",
      "source": [
        "# Sequence - e.g. lists, Sets, Tuples etc.\n",
        "\n",
        "# In List we can have different Elements of Different Data Types\n",
        "x = [1, 'abc', 'True']\n",
        "\n",
        "for i in x:\n",
        "  print(i)"
      ],
      "metadata": {
        "colab": {
          "base_uri": "https://localhost:8080/"
        },
        "id": "P4KbIGj1gJYP",
        "outputId": "9c886c5c-3eb5-43c5-ba1c-92352aac41da"
      },
      "execution_count": 24,
      "outputs": [
        {
          "output_type": "stream",
          "name": "stdout",
          "text": [
            "1\n",
            "abc\n",
            "True\n"
          ]
        }
      ]
    },
    {
      "cell_type": "code",
      "source": [
        "# Mapping - We use Dictionary for Mapping, each Key can have Different Data Types\n",
        "# We can't have same Key Names inside a Dictionary\n",
        "x ={\n",
        "    'Roll_Num': 1,\n",
        "    'Name': 'KJ'\n",
        "}\n",
        "\n",
        "for key, value in x.items():\n",
        "  print(key, \":\", value)\n",
        "\n",
        "print(\"My Name is \", x['Name']) # Way to Access Values using Key"
      ],
      "metadata": {
        "colab": {
          "base_uri": "https://localhost:8080/"
        },
        "id": "3ihNFdvdgZnS",
        "outputId": "c8834e5e-47ba-474f-c78e-66eca074ff51"
      },
      "execution_count": 27,
      "outputs": [
        {
          "output_type": "stream",
          "name": "stdout",
          "text": [
            "Roll_Num : 1\n",
            "Name : KJ\n",
            "My Name is  KJ\n"
          ]
        }
      ]
    },
    {
      "cell_type": "markdown",
      "source": [
        "## HOW To use Networks in Python"
      ],
      "metadata": {
        "id": "e7MYLBPxhuNs"
      }
    },
    {
      "cell_type": "markdown",
      "source": [
        "To use Networks in Python, we use the library **networkx**"
      ],
      "metadata": {
        "id": "2wpT8oxthzJk"
      }
    },
    {
      "cell_type": "code",
      "source": [
        "# Way to install networkx\n",
        "!pip install networkx"
      ],
      "metadata": {
        "colab": {
          "base_uri": "https://localhost:8080/"
        },
        "id": "dacEwrzkhyX-",
        "outputId": "7fe0a60b-150a-4548-968a-c19ad5214037"
      },
      "execution_count": 28,
      "outputs": [
        {
          "output_type": "stream",
          "name": "stdout",
          "text": [
            "Requirement already satisfied: networkx in /usr/local/lib/python3.10/dist-packages (3.3)\n"
          ]
        }
      ]
    },
    {
      "cell_type": "code",
      "source": [
        "import networkx as nx"
      ],
      "metadata": {
        "id": "ke0UHkj5jXek"
      },
      "execution_count": 29,
      "outputs": []
    },
    {
      "cell_type": "markdown",
      "source": [
        "Networkx provides us with 4 classes of Graphs:\n",
        "<br>**Graph**: It implements **Undirected Graph** and allows **self-loop edges** between node and itself\n",
        "<br>**DiGraph**: It is a **Directed Graph**\n",
        "<br>**MultiGraph**: It is a Graph that allows **Multiple Undirected Edges between Pairs of Nodes**\n",
        "<br>**MultiDiGraph**: It is a **Directed** version of MultiGraph"
      ],
      "metadata": {
        "id": "8E9OgWxjjqsi"
      }
    },
    {
      "cell_type": "code",
      "source": [
        "## We can call the above 4 classes\n",
        "\n",
        "G = nx.Graph()\n",
        "print(G)\n",
        "G = nx.DiGraph()\n",
        "print(G)\n",
        "G = nx.MultiGraph()\n",
        "print(G)\n",
        "G = nx.MultiDiGraph()\n",
        "print(G)"
      ],
      "metadata": {
        "colab": {
          "base_uri": "https://localhost:8080/"
        },
        "id": "ZQ6r9OoGjd1g",
        "outputId": "d241b8a8-b6c7-4f70-c243-7a2d9776483a"
      },
      "execution_count": 55,
      "outputs": [
        {
          "output_type": "stream",
          "name": "stdout",
          "text": [
            "Graph with 0 nodes and 0 edges\n",
            "DiGraph with 0 nodes and 0 edges\n",
            "MultiGraph with 0 nodes and 0 edges\n",
            "MultiDiGraph with 0 nodes and 0 edges\n"
          ]
        }
      ]
    },
    {
      "cell_type": "markdown",
      "source": [
        "#Way to Add Nodes"
      ],
      "metadata": {
        "id": "6O-FmiAFkwzz"
      }
    },
    {
      "cell_type": "code",
      "source": [
        "G = nx.Graph()"
      ],
      "metadata": {
        "id": "FkMtVbXTkv8l"
      },
      "execution_count": 56,
      "outputs": []
    },
    {
      "cell_type": "code",
      "source": [
        "# To add Node\n",
        "\n",
        "# One at a time\n",
        "G.add_node(1) # Here, 1 is the Name of the Node\n",
        "print(G)\n",
        "\n",
        "# Add Multiple Node\n",
        "G.add_nodes_from([2,3,4,5])\n",
        "print(G)"
      ],
      "metadata": {
        "colab": {
          "base_uri": "https://localhost:8080/"
        },
        "id": "6dv-o9-Jksvt",
        "outputId": "42d9cbc7-a580-4254-c3a3-e776ec6000a1"
      },
      "execution_count": 57,
      "outputs": [
        {
          "output_type": "stream",
          "name": "stdout",
          "text": [
            "Graph with 1 nodes and 0 edges\n",
            "Graph with 5 nodes and 0 edges\n"
          ]
        }
      ]
    },
    {
      "cell_type": "markdown",
      "source": [
        "#Way to Add Edges"
      ],
      "metadata": {
        "id": "1aiW94tglat2"
      }
    },
    {
      "cell_type": "code",
      "source": [
        "# One at a time\n",
        "G.add_edge(1,2) # Here, it tells between which Node the Edge has to be added\n",
        "print(G)\n",
        "\n",
        "# Add Multiple Edges\n",
        "G.add_edges_from([(2,3),(3,4)])\n",
        "print(G)\n",
        "\n",
        "# If we do not define Any Node and Add Edge, then it will automatically add those Nodes\n",
        "G.add_edge(6,7)\n",
        "print(G)"
      ],
      "metadata": {
        "colab": {
          "base_uri": "https://localhost:8080/"
        },
        "id": "VguZD5hjlcNQ",
        "outputId": "5001ad1e-6614-4bff-a217-ad6d76653b8b"
      },
      "execution_count": 58,
      "outputs": [
        {
          "output_type": "stream",
          "name": "stdout",
          "text": [
            "Graph with 5 nodes and 1 edges\n",
            "Graph with 5 nodes and 3 edges\n",
            "Graph with 7 nodes and 4 edges\n"
          ]
        }
      ]
    },
    {
      "cell_type": "markdown",
      "source": [
        "#Way to Add Attributes to the Edges"
      ],
      "metadata": {
        "id": "CB7DPyJmmDX8"
      }
    },
    {
      "cell_type": "code",
      "source": [
        "G.add_edge(4,5, weight = 2) # Here We provide (Source Node, Target Node, Attributes)\n",
        "G.add_edge(5,6, friends = True) # Here We provide (Source Node, Target Node, Attributes)\n",
        "G.add_edge(7,1, weight = 2, Friends = False) # We can have multiple attributes\n",
        "print(G)"
      ],
      "metadata": {
        "colab": {
          "base_uri": "https://localhost:8080/"
        },
        "id": "bif49ARmllxO",
        "outputId": "6b8f6162-685f-4ab9-c39c-d7f515e63cb9"
      },
      "execution_count": 59,
      "outputs": [
        {
          "output_type": "stream",
          "name": "stdout",
          "text": [
            "Graph with 7 nodes and 7 edges\n"
          ]
        }
      ]
    },
    {
      "cell_type": "markdown",
      "source": [
        "#Graph Reporting - Way to See Graph"
      ],
      "metadata": {
        "id": "lQENljZxmjHf"
      }
    },
    {
      "cell_type": "code",
      "source": [
        "print(G[1]) # It gives the Adjacency List i.e. what all Neighbors it has with attributes\n",
        "print(G[7][1]) # Variable(Node_1, Node_2), it gives that specific Edge\n",
        "print(G.nodes) # Gives list of all the Nodes\n",
        "print(G.edges) # Gives list of tuples of all the Edges where each Tuple Represent (Source Node, Target Node)\n",
        "print(G.edges.data()) # It gives Details in this format: (Source Node, Target Node, Attributes between them)\n",
        "print(G.edges.data('weight')) # We can see all the Edges that are having the specific Attribute\n",
        "print(G.edges.data('friends'))\n",
        "print(G.edges[7,1]['weight']) #We can access the Values as well"
      ],
      "metadata": {
        "colab": {
          "base_uri": "https://localhost:8080/"
        },
        "id": "DyfPlDUbmhL_",
        "outputId": "6b6a1e7c-8514-4fe8-d1fc-ed11c4661e7d"
      },
      "execution_count": 60,
      "outputs": [
        {
          "output_type": "stream",
          "name": "stdout",
          "text": [
            "{2: {}, 7: {'weight': 2, 'Friends': False}}\n",
            "{'weight': 2, 'Friends': False}\n",
            "[1, 2, 3, 4, 5, 6, 7]\n",
            "[(1, 2), (1, 7), (2, 3), (3, 4), (4, 5), (5, 6), (6, 7)]\n",
            "[(1, 2, {}), (1, 7, {'weight': 2, 'Friends': False}), (2, 3, {}), (3, 4, {}), (4, 5, {'weight': 2}), (5, 6, {'friends': True}), (6, 7, {})]\n",
            "[(1, 2, None), (1, 7, 2), (2, 3, None), (3, 4, None), (4, 5, 2), (5, 6, None), (6, 7, None)]\n",
            "[(1, 2, None), (1, 7, None), (2, 3, None), (3, 4, None), (4, 5, None), (5, 6, True), (6, 7, None)]\n",
            "2\n"
          ]
        }
      ]
    },
    {
      "cell_type": "markdown",
      "source": [
        "#Way to Remove Nodes & Edges"
      ],
      "metadata": {
        "id": "JJau1KnxoOXn"
      }
    },
    {
      "cell_type": "code",
      "source": [
        "#One Node at a Time\n",
        "G.remove_node(7)\n",
        "print(G)\n",
        "# Way to Remove List of Nodes\n",
        "G.remove_nodes_from([5,6])\n",
        "print(G)\n",
        "\n",
        "#In Similar Way we can Remove Edges As Well"
      ],
      "metadata": {
        "colab": {
          "base_uri": "https://localhost:8080/"
        },
        "id": "Hn7diQ0MnAcP",
        "outputId": "35b02e45-3148-4e9e-c525-a6445f1501fa"
      },
      "execution_count": 61,
      "outputs": [
        {
          "output_type": "stream",
          "name": "stdout",
          "text": [
            "Graph with 6 nodes and 5 edges\n",
            "Graph with 4 nodes and 3 edges\n"
          ]
        }
      ]
    },
    {
      "cell_type": "markdown",
      "source": [
        "# Way to Draw Graph"
      ],
      "metadata": {
        "id": "IFOeU7iGpFd8"
      }
    },
    {
      "cell_type": "code",
      "source": [
        "nx.draw(G)"
      ],
      "metadata": {
        "colab": {
          "base_uri": "https://localhost:8080/",
          "height": 516
        },
        "id": "1-SRxlmNokUr",
        "outputId": "20ffea26-9f9a-41f8-af55-b51ddc76ea11"
      },
      "execution_count": 62,
      "outputs": [
        {
          "output_type": "display_data",
          "data": {
            "text/plain": [
              "<Figure size 640x480 with 1 Axes>"
            ],
            "image/png": "[encoded data removed]"
          },
          "metadata": {}
        }
      ]
    },
    {
      "cell_type": "code",
      "source": [
        "# Customized Graph\n",
        "nx.draw(G, pos=nx.circular_layout(G), node_color='r', edge_color='black', with_labels=True, node_size=500, node_shape='s', alpha=0.5, style='--')"
      ],
      "metadata": {
        "colab": {
          "base_uri": "https://localhost:8080/",
          "height": 516
        },
        "id": "vh4mwnm5pKrJ",
        "outputId": "7a75212d-3a98-4132-f2ef-f1a2804b2534"
      },
      "execution_count": 63,
      "outputs": [
        {
          "output_type": "display_data",
          "data": {
            "text/plain": [
              "<Figure size 640x480 with 1 Axes>"
            ],
            "image/png": "[encoded data removed]"
          },
          "metadata": {}
        }
      ]
    },
    {
      "cell_type": "code",
      "source": [],
      "metadata": {
        "id": "3L9cURIEpkNX"
      },
      "execution_count": null,
      "outputs": []
    }
  ],
  "metadata": {
    "colab": {
      "name": "Welcome To Colab",
      "toc_visible": true,
      "provenance": [],
      "include_colab_link": true
    },
    "kernelspec": {
      "display_name": "Python 3",
      "name": "python3"
    }
  },
  "nbformat": 4,
  "nbformat_minor": 0
}